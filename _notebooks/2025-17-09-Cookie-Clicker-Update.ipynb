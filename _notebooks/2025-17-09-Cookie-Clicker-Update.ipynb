{
 "cells": [
  {
   "cell_type": "markdown",
   "metadata": {},
   "source": [
    "---\n",
    "layout: post\n",
    "title: Cookie Clicker Game Update\n",
    "description: Shows how i changed my game\n",
    "permalink: /jupyter/notebook/CookieClicker\n",
    "toc: True\n",
    "comments: True\n",
    "---"
   ]
  },
  {
   "cell_type": "markdown",
   "metadata": {},
   "source": [
    "# Cookie Clicker Game Update"
   ]
  },
  {
   "cell_type": "markdown",
   "metadata": {},
   "source": [
    "In this notebook, I’ll explain the changes I made to my **Cookie Clicker** game. The updates focus on both appearance and new gameplay features that make the game more fun and engaging."
   ]
  },
  {
   "cell_type": "markdown",
   "metadata": {},
   "source": [
    "## 1. Cookie Appearance Update\n",
    "- We changed the **appearance of the cookie** to make it more visually appealing.\n",
    "- Whenever you click the cookie, a **`+1` and a cookie symbol** now appear, giving instant feedback to the player.\n",
    "- This makes the game feel more interactive and satisfying."
   ]
  },
  {
   "cell_type": "markdown",
   "metadata": {},
   "source": [
    "## 2. Cursor Feature\n",
    "- We added a new purchasable item called the **Cursor**.\n",
    "- Once you buy a cursor, it **automatically clicks the cookie** for you.\n",
    "- This helps the player earn cookies faster without needing to click constantly."
   ]
  },
  {
   "cell_type": "markdown",
   "metadata": {},
   "source": [
    "## 3. Portal Feature\n",
    "- We introduced a new item called the **Portal**.\n",
    "- The portal is more powerful and costs **500,000 cookies**.\n",
    "- Once purchased, it produces cookies at a much higher rate.\n",
    "- This adds a **long-term goal** for players to work towards."
   ]
  },
  {
   "cell_type": "markdown",
   "metadata": {},
   "source": [
    "## 4. Visual and UI Improvements\n",
    "- The **entire look of the game** was polished to make it cleaner and more attractive.\n",
    "- The layout of the shop and game interface was improved.\n",
    "- Overall, the game is now easier to play and nicer to look at."
   ]
  },
  {
   "cell_type": "markdown",
   "metadata": {},
   "source": [
    "## Reflection\n",
    "These changes made the game more enjoyable by combining **fun visuals**, **automatic progression**, and **new goals**. The updates encourage players to keep playing longer and explore the new features."
   ]
  }
 ],
 "metadata": {
  "language_info": {
   "name": "python"
  }
 },
 "nbformat": 4,
 "nbformat_minor": 2
}
