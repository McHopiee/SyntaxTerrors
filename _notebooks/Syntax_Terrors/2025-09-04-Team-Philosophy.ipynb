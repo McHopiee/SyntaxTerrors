{
 "cells": [
  {
   "cell_type": "markdown",
   "id": "71d95eb5",
   "metadata": {},
   "source": [
    "---\n",
    "title: Team Philosophy \n",
    "comments: true\n",
    "layout: post\n",
    "permalink: /teamphilosophy\n",
    "\n",
    "author: Syntax Terrors \n",
    "---\n"
   ]
  },
  {
   "cell_type": "markdown",
   "id": "f2133499",
   "metadata": {},
   "source": [
    "## 🎮 SyntaxTerrors Team Philosophy & Agile Manifesto\n",
    "\n",
    "We believe in building our JavaScript based games through collaboration, adaptability, user experience, and a focus on delivering meaningful results. Our philosophy is rooted in the **Agile Manifesto** values and tailored for our high school AP CSP team named **SyntaxTerrors!**\n",
    "\n",
    "---\n",
    "\n",
    "## 🤝 Collaboration\n",
    "- **Work Together Closely**  \n",
    "  <span>*We communicate openly and share ideas freely to ensure everyone feels included and valued.*</span>\n",
    "\n",
    "- **Respect Each Role**  \n",
    "  *Each teammate has strengths — whether coding, testing, or design — and we trust each other to contribute meaningfully.*\n",
    "\n",
    "---\n",
    "\n",
    "## 🔄 Flexibility & Adaptability\n",
    "- **Stay Flexible**  \n",
    "  <span>*We are willing to adjust our plans when challenges arise, focusing on solutions instead of problems.*</span>\n",
    "\n",
    "- **Iterative Mindset**  \n",
    "  *Our project will evolve in small, testable increments (such as git commits), rather than trying to build everything at once.*\n",
    "\n",
    "---\n",
    "\n",
    "## 🎯 Delivering Value\n",
    "- **Focus on Real Value**  \n",
    "  <span>*We prioritize features that make the game fun, playable, and enjoyable for our target audience.*</span>\n",
    "\n",
    "- **User-Centered Design**  \n",
    "  *Player experience is our north star; every sprint should result in something engaging for end users.*\n",
    "\n",
    "---\n",
    "\n",
    "## 🚀 Growth & Improvement\n",
    "- **Continuous Learning**  \n",
    "  *We reflect on what worked and what didn’t, learning from both successes and mistakes.*\n",
    "\n",
    "- **Keep Improving**  \n",
    "  <span>*Each sprint is a chance to get better as developers, teammates, and problem-solvers.*</span>\n"
   ]
  }
 ],
 "metadata": {
  "kernelspec": {
   "display_name": "venv",
   "language": "python",
   "name": "python3"
  },
  "language_info": {
   "name": "python",
   "version": "3.12.3"
  }
 },
 "nbformat": 4,
 "nbformat_minor": 5
}
