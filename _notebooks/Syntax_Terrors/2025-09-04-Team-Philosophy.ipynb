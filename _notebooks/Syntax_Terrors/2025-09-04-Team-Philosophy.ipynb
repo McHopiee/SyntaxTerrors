{
 "cells": [
  {
   "cell_type": "code",
   "execution_count": null,
   "id": "71d95eb5",
   "metadata": {
    "vscode": {
     "languageId": "yaml"
    }
   },
   "outputs": [],
   "source": [
    "---\n",
    "title: Team Philosophy \n",
    "comments: true\n",
    "layout: post\n",
    "permalink: /teamphilosophy\n",
    "description: Team Syntax Terror's philosophy/manifesto \n",
    "author: Syntax Terrors \n",
    "---\n"
   ]
  }
 ],
 "metadata": {
  "language_info": {
   "name": "python"
  }
 },
 "nbformat": 4,
 "nbformat_minor": 5
}
