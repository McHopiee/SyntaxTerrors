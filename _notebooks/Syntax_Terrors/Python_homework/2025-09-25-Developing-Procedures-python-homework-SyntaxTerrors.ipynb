{
 "cells": [
  {
   "cell_type": "code",
   "execution_count": null,
   "id": "2b34f512",
   "metadata": {
    "vscode": {
     "languageId": "yaml"
    }
   },
   "outputs": [],
   "source": [
    "---\n",
    "layout: post\n",
    "title: Coding Concept - Developing Procedures\n",
    "description: Understanding Developing Procedures in Python and JavaScript\n",
    "categories: [Python Homework]\n",
    "permalink: /csp/big-idea-three/developingprocedures/python/hw/p3/syntaxterrors\n",
    "author: Hope F\n",
    "---"
   ]
  },
  {
   "cell_type": "markdown",
   "id": "a31f149f",
   "metadata": {},
   "source": [
    "<div align=\"center\" style=\"margin-bottom: 2em;\">\n",
    "  <a href=\"{{ site.baseurl }}/csp/big-idea-three/developingprocedures/lesson/p3/syntaxterrors\"\n",
    "     style=\"\n",
    "      display: inline-block;\n",
    "      background: linear-gradient(90deg, #2563eb 0%, #1e40af 100%);\n",
    "      color: white;\n",
    "      padding: 0.85em 2.2em;\n",
    "      border-radius: 0.6em;\n",
    "      font-weight: bold;\n",
    "      text-decoration: none;\n",
    "      font-size: 1.15em;\n",
    "      box-shadow: 0 4px 16px rgba(30,64,175,0.18), 0 1.5px 4px rgba(0,0,0,0.10);\n",
    "      transition: \n",
    "        background 0.2s,\n",
    "        transform 0.15s,\n",
    "        box-shadow 0.2s;\n",
    "    \"\n",
    "    onmouseover=\"this.style.transform='scale(1.045)'; this.style.boxShadow='0 8px 24px rgba(30,64,175,0.22), 0 2px 8px rgba(0,0,0,0.13)';\"\n",
    "    onmouseout=\"this.style.transform='scale(1)'; this.style.boxShadow='0 4px 16px rgba(30,64,175,0.18), 0 1.5px 4px rgba(0,0,0,0.10)';\"\n",
    "  >\n",
    "    Developing Procedures Lesson\n",
    "  </a>\n",
    "</div>"
   ]
  },
  {
   "cell_type": "markdown",
   "id": "4e0909fe",
   "metadata": {},
   "source": []
  }
 ],
 "metadata": {
  "language_info": {
   "name": "python"
  }
 },
 "nbformat": 4,
 "nbformat_minor": 5
}
