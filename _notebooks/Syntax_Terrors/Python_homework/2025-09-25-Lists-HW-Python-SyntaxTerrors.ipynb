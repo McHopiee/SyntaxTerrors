{
 "cells": [
  {
   "cell_type": "markdown",
   "id": "ba180238",
   "metadata": {},
   "source": [
    "---\n",
    "layout: tailwindPost\n",
    "infoGraph: lists\n",
    "title: Coding Homework - Lists\n",
    "description: Understanding Lists in Python - Homework \n",
    "categories: [Python Homework]\n",
    "permalink: /csp/big-idea-three/lists/p3/homeworkpython\n",
    "author: Meryl C \n",
    "---"
   ]
  },
  {
   "cell_type": "markdown",
   "id": "2ae0848c",
   "metadata": {
    "vscode": {
     "languageId": "html"
    }
   },
   "source": [
    "<div align=\"center\" style=\"margin-bottom: 2em;\">\n",
    "  <a href=\"{{ site.baseurl }}{{ page.permalink }}\"\n",
    "     style=\"\n",
    "      display: inline-block;\n",
    "      background: linear-gradient(90deg, #2563eb 0%, #1e40af 100%);\n",
    "      color: white;\n",
    "      padding: 0.85em 2.2em;\n",
    "      border-radius: 0.6em;\n",
    "      font-weight: bold;\n",
    "      text-decoration: none;\n",
    "      font-size: 1.15em;\n",
    "      box-shadow: 0 4px 16px rgba(30,64,175,0.18), 0 1.5px 4px rgba(0,0,0,0.10);\n",
    "      transition: \n",
    "        background 0.2s,\n",
    "        transform 0.15s,\n",
    "        box-shadow 0.2s;\n",
    "    \"\n",
    "    onmouseover=\"this.style.transform='scale(1.045)'; this.style.boxShadow='0 8px 24px rgba(30,64,175,0.22), 0 2px 8px rgba(0,0,0,0.13)';\"\n",
    "    onmouseout=\"this.style.transform='scale(1)'; this.style.boxShadow='0 4px 16px rgba(30,64,175,0.18), 0 1.5px 4px rgba(0,0,0,0.10)';\"\n",
    "  >\n",
    "    Lists Lesson\n",
    "  </a>\n",
    "</div>"
   ]
  },
  {
   "cell_type": "markdown",
   "id": "85800786",
   "metadata": {},
   "source": [
    "# 🐍 Homework: Snake Lists Practice\n",
    "\n",
    "This homework will help you practice **lists** (Python) or **arrays** (JavaScript) by extending the Snake lesson.  \n",
    "Remember:  \n",
    "- `\"H\"` = head  \n",
    "- `\"B\"` = body  \n",
    "- `\"T\"` = tail  \n",
    "\n",
    "---\n",
    "\n",
    "## ✏️ Problem 1: Build a Longer Snake\n",
    "Start with a snake that has:  \n",
    "- 1 head,  \n",
    "- 3 body segments,  \n",
    "- 1 tail.  \n",
    "\n",
    "👉 Create the list and print it.  \n",
    "Example output: `[\"H\", \"B\", \"B\", \"B\", \"T\"]`\n",
    "\n",
    "---\n",
    "\n",
    "## ✏️ Problem 2: Feeding Frenzy\n",
    "Your snake just ate **three apples** 🍎.  \n",
    "- Add 3 tails `\"T\"` at the end of the list.  \n",
    "- Print the new snake length using `len(snake)` (Python) or `.length` (JavaScript).  \n",
    "\n",
    "👉 What is the snake’s new length?\n",
    "\n",
    "---\n",
    "\n",
    "## ✏️ Problem 3: Tail Trouble\n",
    "The snake is too long and loses **one tail** for every step forward.  \n",
    "- Remove 2 tails from the end of the list.  \n",
    "- Print the snake after shrinking.  \n",
    "\n",
    "---\n",
    "\n",
    "## ✏️ Problem 4: Heads Up!\n",
    "The snake grows smarter and can add new heads in front.  \n",
    "- Add **two heads** `\"H\"` to the start of the list.  \n",
    "- Then remove **one head** from the start.  \n",
    "- Print the final snake and identify its new head (`snake[0]`).  \n",
    "\n",
    "---\n",
    "\n",
    "## ✏️ Problem 5: Snake Quiz\n",
    "Start with:\n",
    "```python\n",
    "snake = [\"H\", \"B\", \"B\", \"T\"]\n"
   ]
  },
  {
   "cell_type": "code",
   "execution_count": null,
   "id": "f22e9ea6",
   "metadata": {},
   "outputs": [],
   "source": [
    "snake.append(\"T\")\n",
    "del snake[0]\n",
    "snake.insert(0, \"H\")\n"
   ]
  }
 ],
 "metadata": {
  "language_info": {
   "name": "python"
  }
 },
 "nbformat": 4,
 "nbformat_minor": 5
}
