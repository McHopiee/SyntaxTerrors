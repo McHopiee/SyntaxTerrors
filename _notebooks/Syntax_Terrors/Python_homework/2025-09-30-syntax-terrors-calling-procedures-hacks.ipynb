{
 "cells": [
  {
   "cell_type": "raw",
   "id": "96c0ed4f",
   "metadata": {
    "vscode": {
     "languageId": "raw"
    }
   },
   "source": [
    "---\n",
    "layout: post\n",
    "title: Calling Procedures Hacks\n",
    "description: This page will teach you about calling procedures through hacks.\n",
    "permalink: /csp/calling-procedures/hacks-python\n",
    "breadcrumb: True\n",
    "Author: Kailyn Sanford\n",
    "---"
   ]
  },
  {
   "cell_type": "markdown",
   "id": "1818d973",
   "metadata": {},
   "source": [
    "## 1. Basic Call\n",
    "How would you go about calling the greet procedure? Edit the code to add a call."
   ]
  },
  {
   "cell_type": "code",
   "execution_count": null,
   "id": "60a45115",
   "metadata": {},
   "outputs": [],
   "source": [
    "def greet():\n",
    "    print(\"Hello, world!\")\n",
    "\n",
    "# call the \"greet\" procedure here"
   ]
  },
  {
   "cell_type": "markdown",
   "id": "210042ba",
   "metadata": {},
   "source": [
    "## 2. Calling with Parameters\n",
    "Try changing the name within the parameter to your own name."
   ]
  },
  {
   "cell_type": "code",
   "execution_count": null,
   "id": "fde5bc97",
   "metadata": {},
   "outputs": [],
   "source": [
    "def greet(name):\n",
    "    print(\"Hello,\", name)\n",
    "\n",
    "# Put your name and a friends name into the call!\n",
    "greet(\"\")\n",
    "greet(\"\")\n"
   ]
  },
  {
   "cell_type": "markdown",
   "id": "5d36b73c",
   "metadata": {},
   "source": [
    "## 3. Call within a Call\n",
    "try calling the \"jump\" procedure within the \"dance\" procedure!"
   ]
  },
  {
   "cell_type": "code",
   "execution_count": null,
   "id": "be906fe2",
   "metadata": {},
   "outputs": [],
   "source": [
    "def jump():\n",
    "    print(\"Jump up!\")\n",
    "\n",
    "def dance(): # call the jump procedure in here!\n",
    "    print(\"Spin around!\")\n",
    "\n",
    "dance()\n"
   ]
  }
 ],
 "metadata": {
  "language_info": {
   "name": "python"
  }
 },
 "nbformat": 4,
 "nbformat_minor": 5
}
