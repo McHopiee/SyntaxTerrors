{
 "cells": [
  {
   "cell_type": "code",
   "execution_count": null,
   "id": "2b34f512",
   "metadata": {
    "vscode": {
     "languageId": "yaml"
    }
   },
   "outputs": [],
   "source": [
    "---\n",
    "layout: tailwindPost\n",
    "infoGraph: developingprocedures\n",
    "title: Coding Concept - Developing Procedures\n",
    "description: Understanding Developing Procedures in Python and JavaScript\n",
    "categories: [Concepts]\n",
    "permalink: /csp/big-idea-three/developingprocedures/lesson/p3/syntaxterrors\n",
    "author: Hope F\n",
    "---"
   ]
  },
  {
   "cell_type": "markdown",
   "id": "d3e3b831",
   "metadata": {},
   "source": [
    "{%- include tailwind/tabs.html -%}"
   ]
  },
  {
   "cell_type": "markdown",
   "id": "4e0909fe",
   "metadata": {},
   "source": []
  }
 ],
 "metadata": {
  "language_info": {
   "name": "python"
  }
 },
 "nbformat": 4,
 "nbformat_minor": 5
}
