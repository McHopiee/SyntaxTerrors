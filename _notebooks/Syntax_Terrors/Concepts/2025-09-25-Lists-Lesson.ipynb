{
 "cells": [
  {
   "cell_type": "code",
   "execution_count": null,
   "id": "4319c8d6",
   "metadata": {
    "vscode": {
     "languageId": "yaml"
    }
   },
   "outputs": [],
   "source": [
    "---\n",
    "layout: tailwindPost\n",
    "infoGraph: lists\n",
    "title: Coding Concept - Lists\n",
    "description: Understanding Lists in Python and JavaScript\n",
    "categories: [Concepts]\n",
    "permalink: /csp/big-idea-three/lists/p3/syntaxterrors\n",
    "---"
   ]
  },
  {
   "cell_type": "markdown",
   "id": "2d5f60f3",
   "metadata": {},
   "source": [
    "{%- include tailwind/tabs.html -%}"
   ]
  },
  {
   "cell_type": "markdown",
   "id": "47133a34",
   "metadata": {},
   "source": [
    "## Lists  \n",
    "---\n",
    "\n",
    "### 1. Introduction  \n",
    "A **list** is a way to store multiple values inside a single variable. Think of it like a row of lockers: one name (the list) holds many items (the values). Lists are super useful for games like **Snake, Pong, Tic Tac Toe, or Cookie Clicker**, because you often need to keep track of many things at once — like player positions, scores, or objects on the screen.\n",
    "\n",
    "---\n",
    "\n",
    "### 2. Key Concepts  \n",
    "- **Indexing**: Each item in a list has a position, starting at `0`.  \n",
    "- **Appending**: Adding new items to a list.  \n",
    "- **Iteration**: Going through each item in a list with a loop.  \n",
    "- **Mutable**: Lists can be changed (add, remove, update).\n",
    "\n",
    "---\n",
    "\n",
    "### 3. Example in Python\n",
    "```python\n",
    "# A list of high scores in a game\n",
    "scores = [100, 200, 300]\n",
    "\n",
    "# Access items\n",
    "print(\"Top score:\", scores[0])\n",
    "\n",
    "# Add a new score\n",
    "scores.append(400)\n",
    "print(\"Updated scores:\", scores)\n",
    "\n",
    "# Loop through scores\n",
    "for score in scores:\n",
    "    print(\"Score:\", score)\n"
   ]
  }
 ],
 "metadata": {
  "kernelspec": {
   "display_name": "Python 3",
   "language": "python",
   "name": "python3"
  },
  "language_info": {
   "name": "python",
   "version": "3.10"
  }
 },
 "nbformat": 4,
 "nbformat_minor": 5
}
