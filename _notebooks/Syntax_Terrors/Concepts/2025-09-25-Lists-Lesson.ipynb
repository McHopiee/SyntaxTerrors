{
 "cells": [
  {
   "cell_type": "code",
   "execution_count": null,
   "id": "4319c8d6",
   "metadata": {
    "vscode": {
     "languageId": "yaml"
    }
   },
   "outputs": [],
   "source": [
    "---\n",
    "layout: tailwindPost\n",
    "infoGraph: lists\n",
    "title: Coding Concept - Lists\n",
    "description: Understanding Lists in Python and JavaScript\n",
    "categories: [Concepts]\n",
    "permalink: /csp/big-idea-three/lists/p3/syntaxterrors\n",
    "---"
   ]
  },
  {
   "cell_type": "markdown",
   "id": "2d5f60f3",
   "metadata": {},
   "source": [
    "{%- include tailwind/tabs.html -%}"
   ]
  },
  {
   "cell_type": "markdown",
   "id": "5e302562",
   "metadata": {},
   "source": [
    "## Popcorn Hack 1\n",
    "---\n",
    "Create a list of your 3 favorite games. Try modifying the code to add your favorite color to each game.\n",
    "\n",
    "### Python:\n"
   ]
  },
  {
   "cell_type": "code",
   "execution_count": null,
   "id": "0ec8cae9",
   "metadata": {},
   "outputs": [],
   "source": [
    "# Example: games list\n",
    "games = [\"Snake\", \"Pong\", \"Tic Tac Toe\"]\n",
    "\n",
    "# Print first game\n",
    "print(\"First game:\", games[0])\n",
    "\n",
    "# Add another game\n",
    "games.append(\"?\")  # <-- Replace ? with another game\n",
    "\n",
    "# Loop through all games and print them\n",
    "for game in games:\n",
    "    print(\"Game:\", game)\n"
   ]
  },
  {
   "cell_type": "markdown",
   "id": "78e827e4",
   "metadata": {},
   "source": [
    "### JavaScript:\n",
    "(Similar to Python)\n"
   ]
  },
  {
   "cell_type": "code",
   "execution_count": null,
   "id": "14d3aad3",
   "metadata": {
    "vscode": {
     "languageId": "javascript"
    }
   },
   "outputs": [],
   "source": [
    "let games = [\"Snake\", \"Pong\", \"Tic Tac Toe\"];\n",
    "\n",
    "// Print first game\n",
    "console.log(\"First game:\", games[0]);\n",
    "\n",
    "// Add another game\n",
    "games.push(\"?\");  // <-- Replace ? with another game\n",
    "\n",
    "// Loop through all games and print\n",
    "for (let game of games) {\n",
    "    console.log(\"Game:\", game);\n",
    "}\n"
   ]
  },
  {
   "cell_type": "markdown",
   "id": "d00277c5",
   "metadata": {},
   "source": [
    "## Popcorn Hack 2\n",
    "---\n",
    "Track how many cookies you earn. Try changing the values or adding new cookie counts.\n",
    "\n",
    "### Python:\n"
   ]
  },
  {
   "cell_type": "code",
   "execution_count": null,
   "id": "27577514",
   "metadata": {},
   "outputs": [],
   "source": [
    "cookies = [5, 10, 20]\n",
    "\n",
    "# Add new cookies\n",
    "cookies.append(?)  # <-- Replace ? with a number\n",
    "\n",
    "# Print each cookie count\n",
    "for c in cookies:\n",
    "    print(f\"You earned {c} cookies\")\n"
   ]
  },
  {
   "cell_type": "markdown",
   "id": "f48fe89c",
   "metadata": {},
   "source": [
    "### JavaScript:\n"
   ]
  },
  {
   "cell_type": "code",
   "execution_count": null,
   "id": "fc6a4cc4",
   "metadata": {
    "vscode": {
     "languageId": "javascript"
    }
   },
   "outputs": [],
   "source": [
    "let cookies = [5, 10, 20];\n",
    "\n",
    "// Add new cookies\n",
    "cookies.push(?); // <-- Replace ? with a number\n",
    "\n",
    "// Print each cookie count\n",
    "for (let c of cookies) {\n",
    "    console.log(`You earned ${c} cookies`);\n",
    "}\n"
   ]
  },
  {
   "cell_type": "markdown",
   "id": "0eccbf1f",
   "metadata": {},
   "source": [
    "## Popcorn Hack 3\n",
    "---\n",
    "Track positions of a snake's body in a game. Try changing the coordinates or adding a new head position.\n",
    "\n",
    "### Python:\n"
   ]
  },
  {
   "cell_type": "code",
   "execution_count": null,
   "id": "9fcf7ff5",
   "metadata": {},
   "outputs": [],
   "source": [
    "# Initial snake positions\n",
    "snake_positions = [(5,5), (5,6), (5,7)]\n",
    "\n",
    "# Add new head\n",
    "new_head = (?, ?)  # <-- Replace ? with x, y coordinates\n",
    "snake_positions.append(new_head)\n",
    "\n",
    "# Remove tail to maintain length\n",
    "snake_positions.pop(0)\n",
    "\n",
    "print(\"Updated snake positions:\", snake_positions)\n"
   ]
  },
  {
   "cell_type": "markdown",
   "id": "6e0ea759",
   "metadata": {},
   "source": [
    "### JavaScript:\n"
   ]
  },
  {
   "cell_type": "code",
   "execution_count": null,
   "id": "fabb5168",
   "metadata": {
    "vscode": {
     "languageId": "javascript"
    }
   },
   "outputs": [],
   "source": [
    "let snake_positions = [[5,5], [5,6], [5,7]];\n",
    "\n",
    "// Add new head\n",
    "let new_head = [?, ?]; // <-- Replace ? with x, y coordinates\n",
    "snake_positions.push(new_head);\n",
    "\n",
    "// Remove tail to maintain length\n",
    "snake_positions.shift();\n",
    "\n",
    "console.log(\"Updated snake positions:\", snake_positions);\n",
    "\n"
   ]
  },
  {
   "cell_type": "markdown",
   "id": "7a65b477",
   "metadata": {},
   "source": [
    "## Popcorn Hack 4\n",
    "---\n",
    "Keep track of high scores. Try adding your own score or changing existing ones.\n",
    "\n",
    "### Python:\n"
   ]
  },
  {
   "cell_type": "code",
   "execution_count": null,
   "id": "7eda093b",
   "metadata": {},
   "outputs": [],
   "source": [
    "scores = [100, 200, 300]\n",
    "\n",
    "# Add a new score\n",
    "scores.append(?)  # <-- Replace ? with a number\n",
    "\n",
    "# Print all scores\n",
    "for score in scores:\n",
    "    print(\"Score:\", score)\n"
   ]
  },
  {
   "cell_type": "markdown",
   "id": "a4b5d2ef",
   "metadata": {},
   "source": [
    "### JavaScript:\n"
   ]
  },
  {
   "cell_type": "code",
   "execution_count": null,
   "id": "a7d45746",
   "metadata": {
    "vscode": {
     "languageId": "javascript"
    }
   },
   "outputs": [],
   "source": [
    "let scores = [100, 200, 300];\n",
    "\n",
    "// Add a new score\n",
    "scores.push(?);  // <-- Replace ? with a number\n",
    "\n",
    "// Print all scores\n",
    "for (let score of scores) {\n",
    "    console.log(\"Score:\", score);\n",
    "}\n"
   ]
  }
 ],
 "metadata": {
  "kernelspec": {
   "display_name": "Python 3",
   "language": "python",
   "name": "python3"
  },
  "language_info": {
   "name": "python",
   "version": "3.10"
  }
 },
 "nbformat": 4,
 "nbformat_minor": 5
}
