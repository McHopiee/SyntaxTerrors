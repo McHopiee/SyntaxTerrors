{
 "cells": [
  {
   "cell_type": "code",
   "execution_count": null,
   "id": "4319c8d6",
   "metadata": {
    "vscode": {
     "languageId": "yaml"
    }
   },
   "outputs": [],
   "source": [
    "---\n",
    "layout: tailwindPost\n",
    "infoGraph: lists\n",
    "title: Coding Concept - Lists\n",
    "description: Understanding Lists in Python and JavaScript\n",
    "categories: [Concepts]\n",
    "permalink: /csp/big-idea-three/lists/p3/syntaxterrors\n",
    "---"
   ]
  },
  {
   "cell_type": "markdown",
   "id": "2d5f60f3",
   "metadata": {},
   "source": [
    "{%- include tailwind/tabs.html -%}"
   ]
  },
  {
   "cell_type": "markdown",
   "id": "5e302562",
   "metadata": {},
   "source": [
    "### 🍿 Popcorn Hack 1: Initializing the Snake Body  \n",
    "\n",
    "In the game **Snake**, the snake is made up of segments. Each segment can be stored as a position on the board (like coordinates). We can use a **list** to keep track of all the segments of the snake.  \n",
    "\n",
    "👉 **Your job:** create a list called `snake` with **one head, two body segments, and one tail**. Use `\"H\"` for head, `\"B\"` for body, and `\"T\"` for tail.\n",
    "\n",
    "\n"
   ]
  },
  {
   "cell_type": "code",
   "execution_count": null,
   "id": "cfecb7f8",
   "metadata": {},
   "outputs": [],
   "source": [
    "# Popcorn Hack 1 (Python): Initializing the snake\n",
    "# The snake starts with 1 head, 2 body segments, and 1 tail.\n",
    "# Example of a snake: [\"H\", \"B\", \"B\", \"T\"]\n",
    "\n",
    "snake = []  # <-- Fill this in with [\"H\", \"B\", \"B\", \"T\"]\n",
    "\n",
    "print(\"Starting snake:\", snake)\n",
    "\n"
   ]
  },
  {
   "cell_type": "code",
   "execution_count": null,
   "id": "6b69b2e9",
   "metadata": {
    "vscode": {
     "languageId": "javascript"
    }
   },
   "outputs": [],
   "source": [
    "// Popcorn Hack 1 (JavaScript): Initializing the snake\n",
    "// The snake starts with 1 head, 2 body segments, and 1 tail.\n",
    "// Example of a snake: [\"H\", \"B\", \"B\", \"T\"]\n",
    "\n",
    "let snake = [];  // <-- Fill this in with [\"H\", \"B\", \"B\", \"T\"]\n",
    "\n",
    "console.log(\"Starting snake:\", snake);\n"
   ]
  },
  {
   "cell_type": "markdown",
   "id": "15b69c4b",
   "metadata": {},
   "source": [
    "### 🍿 Popcorn Hack 2: Growing the Snake (Append)  \n",
    "\n",
    "In **Snake**, when the snake eats food, it **grows**!  \n",
    "We can use the `.append()` function (Python) or `.push()` (JavaScript) to add new segments to the **end of the list**.  \n",
    "\n",
    "👉 **Your job:** the snake just ate food! Append **two new tail segments** `\"T\"` to make the snake longer.\n",
    "\n"
   ]
  },
  {
   "cell_type": "code",
   "execution_count": null,
   "id": "e6d9aded",
   "metadata": {},
   "outputs": [],
   "source": [
    "# Popcorn Hack 2 (Python): Growing the snake\n",
    "# Starting snake: head, two body segments, and one tail\n",
    "snake = [\"H\", \"B\", \"B\", \"T\"]\n",
    "\n",
    "# The snake just ate food, so add two tail segments!\n",
    "# Use append to add each new tail\n",
    "# Example: snake.append(\"T\")\n",
    "\n",
    "# Write the append lines below\n",
    "# ----------------------------\n",
    "# (YOUR CODE HERE)\n",
    "# (YOUR CODE HERE)\n",
    "\n",
    "print(\"Snake after eating:\", snake)\n"
   ]
  },
  {
   "cell_type": "code",
   "execution_count": null,
   "id": "35b135df",
   "metadata": {
    "vscode": {
     "languageId": "javascript"
    }
   },
   "outputs": [],
   "source": [
    "// Popcorn Hack 2 (JavaScript): Growing the snake\n",
    "let snake = [\"H\", \"B\", \"B\", \"T\"];\n",
    "\n",
    "// The snake just ate food, so add two tail segments!\n",
    "// Use push to add each new tail\n",
    "// Example: snake.push(\"T\");\n",
    "\n",
    "// Write the push lines below\n",
    "// --------------------------\n",
    "// (YOUR CODE HERE)\n",
    "// (YOUR CODE HERE)\n",
    "\n",
    "console.log(\"Snake after eating:\", snake);\n"
   ]
  },
  {
   "cell_type": "markdown",
   "id": "e72d19f4",
   "metadata": {},
   "source": [
    "### 🍿 Popcorn Hack 3: Snake Loses a Tail (Delete)  \n",
    "\n",
    "In **Snake**, sometimes the snake’s tail disappears as it moves forward (so it looks like the head is moving while the tail shortens).  \n",
    "We can simulate this by **removing segments from the end** of the list (Python: `del snake[-1]`, JavaScript: `snake.pop()`).  \n",
    "\n",
    "👉 **Your job:** the snake currently has two extra tails. Remove the last **two tail segments** so the snake goes back to `[\"H\", \"B\", \"B\", \"T\"]`.\n",
    "\n"
   ]
  },
  {
   "cell_type": "code",
   "execution_count": null,
   "id": "ad81edf1",
   "metadata": {},
   "outputs": [],
   "source": [
    "# Popcorn Hack 3 (Python): Snake loses a tail\n",
    "snake = [\"H\", \"B\", \"B\", \"T\", \"T\", \"T\"]\n",
    "\n",
    "# Remove the last two tails\n",
    "# Example: del snake[-1]\n",
    "\n",
    "# Write your delete lines below\n",
    "# ----------------------------\n",
    "# (YOUR CODE HERE)\n",
    "# (YOUR CODE HERE)\n",
    "\n",
    "print(\"Snake after removing tails:\", snake)\n"
   ]
  },
  {
   "cell_type": "code",
   "execution_count": null,
   "id": "938327ea",
   "metadata": {
    "vscode": {
     "languageId": "javascript"
    }
   },
   "outputs": [],
   "source": [
    "// Popcorn Hack 3 (JavaScript): Snake loses a tail\n",
    "let snake = [\"H\", \"B\", \"B\", \"T\", \"T\", \"T\"];\n",
    "\n",
    "// Remove the last two tails\n",
    "// Example: snake.pop();\n",
    "\n",
    "// Write your pop lines below\n",
    "// --------------------------\n",
    "// (YOUR CODE HERE)\n",
    "// (YOUR CODE HERE)\n",
    "\n",
    "console.log(\"Snake after removing tails:\", snake);\n"
   ]
  },
  {
   "cell_type": "markdown",
   "id": "35ef1d17",
   "metadata": {},
   "source": [
    "### 🍿 Popcorn Hack 4: Combining It All (Indexing + Append + Delete)  \n",
    "\n",
    "Now let’s put it all together!  \n",
    "\n",
    "\n",
    "-  In this challenge, we’re going to **add heads to the front**.  \n",
    "- Use **indexing** to insert new heads at the start of the list.  \n",
    "- Then remove two heads from the start to simulate moving forward.  \n",
    "\n",
    "👉 **Your job:**  \n",
    "1. Add **three new heads** `\"H\"` to the **start** of the snake using indexing.  \n",
    "2. Remove **two heads** from the **start** of the snake.  \n",
    "3. Print the snake and its **new first head**.\n",
    "\n"
   ]
  },
  {
   "cell_type": "code",
   "execution_count": null,
   "id": "fb18a739",
   "metadata": {},
   "outputs": [],
   "source": [
    "# Popcorn Hack 4 (Python): Snake moves forward with indexing\n",
    "snake = [\"H\", \"B\", \"B\", \"T\"]\n",
    "\n",
    "# Step 1: Add three heads at the start\n",
    "# Hint: snake.insert(0, \"H\")\n",
    "# ----------------------------\n",
    "# (YOUR CODE HERE)\n",
    "# (YOUR CODE HERE)\n",
    "# (YOUR CODE HERE)\n",
    "\n",
    "# Step 2: Remove two heads from the start\n",
    "# Example: del snake[0]\n",
    "# ----------------------------\n",
    "# (YOUR CODE HERE)\n",
    "# (YOUR CODE HERE)\n",
    "\n",
    "# Step 3: Print the new snake and new first head\n",
    "print(\"Snake after moving:\", snake)\n",
    "print(\"New first head is:\", snake[0])\n"
   ]
  },
  {
   "cell_type": "code",
   "execution_count": null,
   "id": "84bd0cf1",
   "metadata": {
    "vscode": {
     "languageId": "javascript"
    }
   },
   "outputs": [],
   "source": [
    "// Popcorn Hack 4 (JavaScript): Snake moves forward with indexing\n",
    "let snake = [\"H\", \"B\", \"B\", \"T\"];\n",
    "\n",
    "// Step 1: Add three heads at the start\n",
    "// Hint: snake.unshift(\"H\")\n",
    "// --------------------------\n",
    "// (YOUR CODE HERE)\n",
    "// (YOUR CODE HERE)\n",
    "// (YOUR CODE HERE)\n",
    "\n",
    "// Step 2: Remove two heads from the start\n",
    "// Example: snake.shift()\n",
    "// --------------------------\n",
    "// (YOUR CODE HERE)\n",
    "// (YOUR CODE HERE)\n",
    "\n",
    "// Step 3: Print the new snake and new first head\n",
    "console.log(\"Snake after moving:\", snake);\n",
    "console.log(\"New first head is:\", snake[0]);\n"
   ]
  },
  {
   "cell_type": "markdown",
   "id": "a3436888",
   "metadata": {},
   "source": [
    "### ✅ Check Your Understanding  \n",
    "\n",
    "**Question:**  \n",
    "You have a snake represented by the list:\n",
    "\n",
    "```python\n",
    "snake = [\"H\", \"B\", \"B\", \"T\"]\n",
    "\n",
    "You execute the following operations:  \n",
    "\n",
    "\n"
   ]
  },
  {
   "cell_type": "code",
   "execution_count": null,
   "id": "af02e66e",
   "metadata": {},
   "outputs": [],
   "source": [
    "snake.insert(0, \"H\")   \n",
    "snake.append(\"T\")       \n",
    "del snake[1]            \n",
    "\n"
   ]
  },
  {
   "cell_type": "markdown",
   "id": "17483413",
   "metadata": {},
   "source": [
    "If you print the `snake` list now, what will it look like?\n",
    "\n"
   ]
  }
 ],
 "metadata": {
  "kernelspec": {
   "display_name": "Python 3",
   "language": "python",
   "name": "python3"
  },
  "language_info": {
   "name": "python",
   "version": "3.10"
  }
 },
 "nbformat": 4,
 "nbformat_minor": 5
}
