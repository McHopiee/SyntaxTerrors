{
 "cells": [
  {
   "cell_type": "code",
   "execution_count": null,
   "id": "c4b1d04e",
   "metadata": {
    "vscode": {
     "languageId": "yaml"
    }
   },
   "outputs": [],
   "source": [
    "---\n",
    "layout: tailwindPost\n",
    "infoGraph: callingprocedures\n",
    "title: Coding Concept - Calling Procedures\n",
    "description: Understanding Calling Procedures in Python and JavaScript\n",
    "categories: [Concepts]\n",
    "permalink: /csp/big-idea-three/callingprocedures/p3/syntaxterrors\n",
    "author: Hope F\n",
    "---"
   ]
  },
  {
   "cell_type": "markdown",
   "id": "175a2bed",
   "metadata": {
    "vscode": {
     "languageId": "yaml"
    }
   },
   "source": [
    "{%- include tailwind/tabs.html -%}"
   ]
  }
 ],
 "metadata": {
  "language_info": {
   "name": "python"
  }
 },
 "nbformat": 4,
 "nbformat_minor": 5
}
