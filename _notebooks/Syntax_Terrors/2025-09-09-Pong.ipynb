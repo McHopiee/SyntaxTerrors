{
 "cells": [
  {
   "cell_type": "markdown",
   "id": "2afd4bfc",
   "metadata": {},
   "source": [
    "---\n",
    "title: Pong Hacks \n",
    "comments: true\n",
    "layout: post\n",
    "permalink: /pongdetails\n",
    "author: Syntax Terrors \n",
    "---\n"
   ]
  },
  {
   "cell_type": "markdown",
   "id": "5d50de56",
   "metadata": {},
   "source": [
    "\n",
    "# Pong Game: Updated Version with Wins Tracker & Difficulty Modes\n",
    "\n",
    "This notebook explains what was changed from the original Pong game to the updated version.  \n",
    "We’ll walk through **code changes**, **object-oriented design choices**, and provide the **final deliverables** at the end.  \n"
   ]
  },
  {
   "cell_type": "markdown",
   "id": "674a7525",
   "metadata": {},
   "source": [
    "\n",
    "## Key Changes from Original Pong\n",
    "\n",
    "### 1. `drawText` Improvements\n",
    "- **Before:** `drawText` always used `30px Arial`, so all text (scores, win counters, messages) looked the same size.  \n",
    "- **After:** Added a `size` parameter so text size can be customized.  \n",
    "```js\n",
    "function drawText(text, x, y, color = \"white\", size = 30) {\n",
    "    ctx.fillStyle = color;\n",
    "    ctx.font = `${size}px Arial`;\n",
    "    ctx.fillText(text, x, y);\n",
    "}\n",
    "```\n",
    "- This allows **scores** to stay large while **win counters** are smaller (18px).\n"
   ]
  },
  {
   "cell_type": "markdown",
   "id": "a7bbe0ae",
   "metadata": {},
   "source": [
    "\n",
    "### 2. Wins Tracker (Persistent Across Games)\n",
    "- Introduced two new variables stored in **localStorage**:\n",
    "```js\n",
    "let player1Wins = parseInt(localStorage.getItem(\"pongPlayer1Wins\") || \"0\");\n",
    "let player2Wins = parseInt(localStorage.getItem(\"pongPlayer2Wins\") || \"0\");\n",
    "```\n",
    "- Added `saveWin(winner)` function to update counters when a match ends.  \n",
    "- Displayed above the canvas in **yellow**, smaller than main scores:\n",
    "```js\n",
    "drawText(\"P1 Wins: \" + player1Wins, 50, 30, \"yellow\", 18);\n",
    "drawText(\"P2 Wins: \" + player2Wins, canvas.width - 200, 30, \"yellow\", 18);\n",
    "```\n"
   ]
  },
  {
   "cell_type": "markdown",
   "id": "8e0bb64e",
   "metadata": {},
   "source": [
    "\n",
    "### 3. Difficulty Modes\n",
    "- Added **Easy / Normal / Hard** buttons to adjust:\n",
    "  - Ball speed (`ball.baseSpeed`).\n",
    "  - Paddle height (`paddleHeight`).  \n",
    "- Example:\n",
    "```js\n",
    "if (mode === \"easy\") {\n",
    "    ball.baseSpeed = 3;\n",
    "    paddleHeight = 120;\n",
    "} else if (mode === \"hard\") {\n",
    "    ball.baseSpeed = 10;\n",
    "    paddleHeight = 80;\n",
    "}\n",
    "```\n",
    "- Difficulty is saved in **localStorage**, so the setting stays the same between sessions.  \n"
   ]
  },
  {
   "cell_type": "markdown",
   "id": "22e5c26e",
   "metadata": {},
   "source": [
    "\n",
    "### 4. Game Restart Button\n",
    "- When a match ends, a **Restart Game** button appears.  \n",
    "- Clicking it resets:\n",
    "  - Scores.\n",
    "  - Ball position.\n",
    "  - Game state (`gameOver = false`).  \n"
   ]
  },
  {
   "cell_type": "markdown",
   "id": "a5815e9f",
   "metadata": {},
   "source": [
    "\n",
    "## Object-Oriented Programming (OOP) Usage\n",
    "- **`Paddle` class**  \n",
    "  - Handles paddle position, movement, and drawing.  \n",
    "- **`Ball` class**  \n",
    "  - Handles ball physics, collision detection, and resetting.  \n",
    "- These classes make the game **easier to extend** (like adding AI opponents or power-ups later).\n"
   ]
  },
  {
   "cell_type": "markdown",
   "id": "82bfe611",
   "metadata": {},
   "source": [
    "\n",
    "## Final Details\n",
    "\n",
    "1. **Updated Files**\n",
    "   - The full HTML/JS file (see updated `pong.html`) with:\n",
    "     - Wins tracker.\n",
    "     - Difficulty modes.\n",
    "     - Restart button.\n",
    "     - Improved text rendering.  \n",
    "\n",
    "2. **Brief Feature Explanation**  \n",
    "   This updated Pong game adds a **persistent wins tracker** and **difficulty modes**.  \n",
    "   The tracker stores wins across sessions, while difficulty settings let players adjust ball speed and paddle size.  \n",
    "\n",
    "3. **OOP Implementation**  \n",
    "   - `Paddle` objects (player1, player2).  \n",
    "   - `Ball` object.  \n",
    "\n"
   ]
  },
  {
   "cell_type": "markdown",
   "id": "2b8c4792",
   "metadata": {},
   "source": [
    "\n",
    "## Hack Takeaway\n",
    "With this hack, we turned a **simple Pong clone** into a **structured, expandable project**.  \n",
    "With OOP, UI enhancements, local storage, and difficulty settings, we can now add more features much easier.\n"
   ]
  }
 ],
 "metadata": {
  "language_info": {
   "name": "python"
  }
 },
 "nbformat": 4,
 "nbformat_minor": 5
}
