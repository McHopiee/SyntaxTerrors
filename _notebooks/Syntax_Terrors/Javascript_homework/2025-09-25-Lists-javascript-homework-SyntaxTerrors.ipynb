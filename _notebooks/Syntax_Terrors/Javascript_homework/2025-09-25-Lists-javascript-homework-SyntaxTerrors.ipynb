{
 "cells": [
  {
   "cell_type": "markdown",
   "id": "cdcf93f8",
   "metadata": {},
   "source": [
    "---\n",
    "layout: tailwindPost\n",
    "infoGraph: lists\n",
    "title: Coding Concept - Lists\n",
    "description: Understanding Lists in Python and JavaScript\n",
    "categories: [Concepts]\n",
    "permalink: /csp/big-idea-three/lists/javascript/homework/p3/syntaxterrors\n",
    "author: Meryl C\n",
    "---"
   ]
  },
  {
   "cell_type": "code",
   "execution_count": null,
   "id": "099dbffe",
   "metadata": {
    "vscode": {
     "languageId": "javascript"
    }
   },
   "outputs": [],
   "source": [
    "// -------------------------------\n",
    "// Popcorn Hack 1: Initialize Snake\n",
    "// -------------------------------\n",
    "// TODO: Create an array with 1 head, 3 body segments, and 1 tail\n",
    "// Example shape: [\"H\", \"B\", \"B\", \"B\", \"T\"]\n",
    "\n",
    "let snake = [];   // <-- fill in here\n",
    "console.log(\"Starting snake:\", snake);\n",
    "\n",
    "\n",
    "// -------------------------------\n",
    "// Popcorn Hack 2: Growing the Snake\n",
    "// -------------------------------\n",
    "// TODO: Add 2 tails (\"T\") to the end of the snake array\n",
    "// Use push() twice\n",
    "\n",
    "// snake.push(...);\n",
    "// snake.push(...);\n",
    "\n",
    "console.log(\"Snake after eating:\", snake);\n",
    "\n",
    "\n",
    "// -------------------------------\n",
    "// Popcorn Hack 3: Snake Loses a Tail\n",
    "// -------------------------------\n",
    "// TODO: Remove the last 2 elements from the snake array\n",
    "// Use pop()\n",
    "\n",
    "// snake.pop();\n",
    "// snake.pop();\n",
    "\n",
    "console.log(\"Snake after losing tails:\", snake);\n",
    "\n",
    "\n",
    "// -------------------------------\n",
    "// Popcorn Hack 4: Combining It All\n",
    "// -------------------------------\n",
    "// TODO:\n",
    "// Step 1: Add 2 new heads at the start (use unshift(...))\n",
    "// Step 2: Remove 1 head from the start (use shift())\n",
    "// Step 3: Print new snake and its first head\n",
    "\n",
    "// snake.unshift(\"H\");\n",
    "// snake.unshift(\"H\");\n",
    "// snake.shift();\n",
    "\n",
    "console.log(\"Snake after moving:\", snake);\n",
    "console.log(\"New first head is:\", snake[0]);\n",
    "\n",
    "\n",
    "// -------------------------------\n",
    "// Check Your Understanding\n",
    "// -------------------------------\n",
    "snake = [\"H\", \"B\", \"B\", \"T\"];\n",
    "\n",
    "snake.unshift(\"H\");\n",
    "snake.push(\"T\");\n",
    "snake.splice(2, 1);   // removes element at index 2\n",
    "\n",
    "console.log(\"Final snake:\", snake);\n",
    "console.log(\"First head:\", snake[0]);\n",
    "console.log(\"Last element:\", snake[snake.length - 1]);\n"
   ]
  }
 ],
 "metadata": {
  "language_info": {
   "name": "python"
  }
 },
 "nbformat": 4,
 "nbformat_minor": 5
}
