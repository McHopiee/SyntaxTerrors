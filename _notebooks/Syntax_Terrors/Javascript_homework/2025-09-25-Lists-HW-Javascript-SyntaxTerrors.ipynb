{
 "cells": [
  {
   "cell_type": "markdown",
   "id": "983336cf",
   "metadata": {},
   "source": [
    "---\n",
    "layout: tailwindPost\n",
    "infoGraph: lists\n",
    "title: Coding Homework - Lists\n",
    "description: Understanding Lists in Python and JavaScript - Homework \n",
    "categories: [Concepts]\n",
    "permalink: /csp/big-idea-three/lists/p3/listshwjava\n",
    "author: Meryl C \n",
    "---"
   ]
  }
 ],
 "metadata": {
  "language_info": {
   "name": "python"
  }
 },
 "nbformat": 4,
 "nbformat_minor": 5
}
