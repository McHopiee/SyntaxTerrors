{
 "cells": [
  {
   "cell_type": "code",
   "execution_count": null,
   "id": "2b34f512",
   "metadata": {
    "vscode": {
     "languageId": "yaml"
    }
   },
   "outputs": [],
   "source": [
    "---\n",
    "layout: tailwindPost\n",
    "infoGraph: developingprocedures\n",
    "title: Coding Concept - Developing Procedures\n",
    "description: Understanding Developing Procedures in Python and JavaScript\n",
    "categories: [Concepts]\n",
    "permalink: /csp/big-idea-three/developingprocedures/hw/javascript/p3/syntaxterrors\n",
    "author: Meryl C\n",
    "---"
   ]
  },
  {
   "cell_type": "code",
   "execution_count": null,
   "id": "101fed29",
   "metadata": {
    "vscode": {
     "languageId": "javascript"
    }
   },
   "outputs": [],
   "source": [
    "// Homework: Developing Procedures in Java\n",
    "\n",
    "public class ProceduresHomework {\n",
    "\n",
    "    // 1. Write a procedure that takes a number and returns its cube.\n",
    "    public static int cube(int n) {\n",
    "        return n * n * n;\n",
    "    }\n",
    "\n",
    "    // 2. Write a procedure that takes an array of numbers and returns the sum.\n",
    "    public static int listSum(int[] numbers) {\n",
    "        int total = 0;\n",
    "        for (int num : numbers) {\n",
    "            total += num;\n",
    "        }\n",
    "        return total;\n",
    "    }\n",
    "\n",
    "    // 3. Write a procedure that checks if a word is a palindrome.\n",
    "    public static boolean isPalindrome(String word) {\n",
    "        String reversed = new StringBuilder(word).reverse().toString();\n",
    "        return word.equals(reversed);\n",
    "    }\n",
    "\n",
    "    public static void main(String[] args) {\n",
    "        System.out.println(cube(3)); // 27\n",
    "\n",
    "        int[] nums = {1, 2, 3};\n",
    "        System.out.println(listSum(nums)); // 6\n",
    "\n",
    "        System.out.println(isPalindrome(\"racecar\")); // true\n",
    "        System.out.println(isPalindrome(\"apple\"));   // false\n",
    "    }\n",
    "}\n"
   ]
  },
  {
   "cell_type": "markdown",
   "id": "4e0909fe",
   "metadata": {},
   "source": []
  }
 ],
 "metadata": {
  "language_info": {
   "name": "python"
  }
 },
 "nbformat": 4,
 "nbformat_minor": 5
}
