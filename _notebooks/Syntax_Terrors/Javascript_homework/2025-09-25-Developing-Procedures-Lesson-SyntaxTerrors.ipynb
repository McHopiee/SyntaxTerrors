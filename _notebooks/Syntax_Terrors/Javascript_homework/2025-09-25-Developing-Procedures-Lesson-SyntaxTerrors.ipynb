{
 "cells": [
  {
   "cell_type": "code",
   "execution_count": null,
   "id": "2b34f512",
   "metadata": {},
   "outputs": [],
   "source": [
    "---\n",
    "layout: tailwindPost\n",
    "infoGraph: developingprocedures\n",
    "title: Coding Concept - Developing Procedures\n",
    "description: Understanding Developing Procedures in Python and JavaScript\n",
    "categories: [Concepts]\n",
    "permalink: /csp/big-idea-three/developingprocedures/hw/javascript/p3/syntaxterrors\n",
    "author: Meryl C\n",
    "---"
   ]
  },
  {
   "cell_type": "code",
   "execution_count": 2,
   "id": "101fed29",
   "metadata": {
    "vscode": {
     "languageId": "javascript"
    }
   },
   "outputs": [
    {
     "data": {
      "application/javascript": "// Homework: Developing Procedures in Java\n\npublic class ProceduresHomework {\n\n    // 1. Write a procedure that takes a number and returns its cube.\n    public static int cube(int n) {\n        return n * n * n;\n    }\n\n    // 2. Write a procedure that takes an array of numbers and returns the sum.\n    public static int listSum(int[] numbers) {\n        int total = 0;\n        for (int num : numbers) {\n            total += num;\n        }\n        return total;\n    }\n\n    // 3. Write a procedure that checks if a word is a palindrome.\n    public static boolean isPalindrome(String word) {\n        String reversed = new StringBuilder(word).reverse().toString();\n        return word.equals(reversed);\n    }\n\n    public static void main(String[] args) {\n        System.out.println(cube(3)); // 27\n\n        int[] nums = {1, 2, 3};\n        System.out.println(listSum(nums)); // 6\n\n        System.out.println(isPalindrome(\"racecar\")); // true\n        System.out.println(isPalindrome(\"apple\"));   // false\n    }\n}\n",
      "text/plain": [
       "<IPython.core.display.Javascript object>"
      ]
     },
     "metadata": {},
     "output_type": "display_data"
    }
   ],
   "source": [
    "%%javascript\n",
    "// Homework: Developing Procedures in Java\n",
    "\n",
    "public class ProceduresHomework {\n",
    "\n",
    "    // 1. Write a procedure that takes a number and returns its cube.\n",
    "    public static int cube(int n) {\n",
    "        return n * n * n;\n",
    "    }\n",
    "\n",
    "    // 2. Write a procedure that takes an array of numbers and returns the sum.\n",
    "    public static int listSum(int[] numbers) {\n",
    "        int total = 0;\n",
    "        for (int num : numbers) {\n",
    "            total += num;\n",
    "        }\n",
    "        return total;\n",
    "    }\n",
    "\n",
    "    // 3. Write a procedure that checks if a word is a palindrome.\n",
    "    public static boolean isPalindrome(String word) {\n",
    "        String reversed = new StringBuilder(word).reverse().toString();\n",
    "        return word.equals(reversed);\n",
    "    }\n",
    "\n",
    "    public static void main(String[] args) {\n",
    "        System.out.println(cube(3)); // 27\n",
    "\n",
    "        int[] nums = {1, 2, 3};\n",
    "        System.out.println(listSum(nums)); // 6\n",
    "\n",
    "        System.out.println(isPalindrome(\"racecar\")); // true\n",
    "        System.out.println(isPalindrome(\"apple\"));   // false\n",
    "    }\n",
    "}\n"
   ]
  }
 ],
 "metadata": {
  "kernelspec": {
   "display_name": "venv",
   "language": "python",
   "name": "python3"
  },
  "language_info": {
   "codemirror_mode": {
    "name": "ipython",
    "version": 3
   },
   "file_extension": ".py",
   "mimetype": "text/x-python",
   "name": "python",
   "nbconvert_exporter": "python",
   "pygments_lexer": "ipython3",
   "version": "3.13.7"
  }
 },
 "nbformat": 4,
 "nbformat_minor": 5
}
