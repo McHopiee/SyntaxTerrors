{
 "cells": [
  {
   "cell_type": "code",
   "execution_count": null,
   "metadata": {
    "vscode": {
     "languageId": "yaml"
    }
   },
   "outputs": [],
   "source": [
    "---\n",
    "layout: tailwindPost\n",
    "infoGraph: lists\n",
    "title: Lesson calling procedues\n",
    "description: Understanding calling procedures\n",
    "categories: [Javascript Homework]\n",
    "permalink: /csp/big-idea-three/calling-procedures/javascript/hw/p3/syntaxterrors\n",
    "author: Avantika\n",
    "---"
   ]
  },
  {
   "cell_type": "markdown",
   "metadata": {},
   "source": [
    "<div align=\"center\" style=\"margin-bottom: 2em;\">\n",
    "  <a href=\"{{ site.baseurl }}{{ page.permalink }}\"\n",
    "     style=\"\n",
    "      display: inline-block;\n",
    "      background: linear-gradient(90deg, #2563eb 0%, #1e40af 100%);\n",
    "      color: white;\n",
    "      padding: 0.85em 2.2em;\n",
    "      border-radius: 0.6em;\n",
    "      font-weight: bold;\n",
    "      text-decoration: none;\n",
    "      font-size: 1.15em;\n",
    "      box-shadow: 0 4px 16px rgba(30,64,175,0.18), 0 1.5px 4px rgba(0,0,0,0.10);\n",
    "      transition: \n",
    "        background 0.2s,\n",
    "        transform 0.15s,\n",
    "        box-shadow 0.2s;\n",
    "    \"\n",
    "    onmouseover=\"this.style.transform='scale(1.045)'; this.style.boxShadow='0 8px 24px rgba(30,64,175,0.22), 0 2px 8px rgba(0,0,0,0.13)';\"\n",
    "    onmouseout=\"this.style.transform='scale(1)'; this.style.boxShadow='0 4px 16px rgba(30,64,175,0.18), 0 1.5px 4px rgba(0,0,0,0.10)';\"\n",
    "  >\n",
    "    Calling Procedures Lesson\n",
    "  </a>\n",
    "</div>"
   ]
  },
  {
   "cell_type": "markdown",
   "metadata": {},
   "source": [
    "📘 Lesson: Calling Procedures in Programming\n",
    "🎯 Objective\n",
    "\n",
    "By the end of this lesson, students will be able to:\n",
    "\n",
    "Understand what a procedure is.\n",
    "\n",
    "Learn how to define and call a procedure.\n",
    "\n",
    "Recognize why procedures are useful in programming.\n",
    "\n",
    "Write simple code that uses procedures."
   ]
  },
  {
   "cell_type": "markdown",
   "metadata": {},
   "source": [
    "1. 🧩 What is a Procedure?\n",
    "\n",
    "A procedure is a set of instructions grouped together to perform a task.\n",
    "\n",
    "Instead of writing the same code many times, you put it inside a procedure and “call” it whenever needed.\n",
    "\n",
    "This makes code organized, reusable, and easier to debug.\n",
    "\n",
    "💡 Think of a procedure like a recipe: once you write it down, you can “call” it to cook the dish whenever you want."
   ]
  },
  {
   "cell_type": "markdown",
   "metadata": {},
   "source": [
    "2. 🖊️ Defining vs. Calling a Procedure\n",
    "\n",
    "Define: Write the procedure (like writing the recipe).\n",
    "\n",
    "Call: Use the procedure (like cooking the dish)."
   ]
  },
  {
   "cell_type": "markdown",
   "metadata": {},
   "source": [
    "3. ⚙️ Syntax Examples\n",
    "In Python:"
   ]
  },
  {
   "cell_type": "code",
   "execution_count": null,
   "metadata": {},
   "outputs": [],
   "source": [
    "# Defining a procedure\n",
    "def greet():\n",
    "    print(\"Hello, welcome to class!\")\n",
    "\n",
    "# Calling the procedure\n",
    "greet()\n",
    "greet()\n"
   ]
  },
  {
   "cell_type": "markdown",
   "metadata": {},
   "source": [
    "✅ Output:"
   ]
  },
  {
   "cell_type": "code",
   "execution_count": null,
   "metadata": {
    "vscode": {
     "languageId": "javascript"
    }
   },
   "outputs": [],
   "source": [
    "Hello, welcome to class!\n",
    "Hello, welcome to class!\n",
    "//should look like this"
   ]
  },
  {
   "cell_type": "markdown",
   "metadata": {},
   "source": [
    "In JavaScript:"
   ]
  },
  {
   "cell_type": "code",
   "execution_count": null,
   "metadata": {
    "vscode": {
     "languageId": "javascript"
    }
   },
   "outputs": [],
   "source": [
    "// Defining a procedure\n",
    "function greet() {\n",
    "    console.log(\"Hello, welcome to class!\");\n",
    "}\n",
    "\n",
    "// Calling the procedure\n",
    "greet();\n",
    "greet();\n"
   ]
  },
  {
   "cell_type": "markdown",
   "metadata": {
    "vscode": {
     "languageId": "javascript"
    }
   },
   "source": [
    "✅ Output:"
   ]
  },
  {
   "cell_type": "code",
   "execution_count": null,
   "metadata": {
    "vscode": {
     "languageId": "javascript"
    }
   },
   "outputs": [],
   "source": [
    "Hello, welcome to class!\n",
    "Hello, welcome to class!\n",
    "//should look like this"
   ]
  },
  {
   "cell_type": "markdown",
   "metadata": {},
   "source": [
    "4. 🌟 Why Use Procedures?\n",
    "\n",
    "Avoid repeating code.\n",
    "\n",
    "Make programs shorter and clearer.\n",
    "\n",
    "Easier to update (change the procedure once, and all calls use the new version).\n",
    "\n",
    "Encourages teamwork (different programmers can write different procedures)."
   ]
  },
  {
   "cell_type": "markdown",
   "metadata": {},
   "source": [
    "5. 🏋️ Practice Time\n",
    "\n",
    "Task 1: Write a procedure called sayGoodbye() that prints \"Goodbye, see you soon!\". Call it three times.\n",
    "\n",
    "Task 2 (Challenge): Write a procedure addNumbers(a, b) that takes two numbers and prints their sum. Call it with 3, 7 and 10, 25."
   ]
  }
 ],
 "metadata": {
  "language_info": {
   "name": "python"
  }
 },
 "nbformat": 4,
 "nbformat_minor": 2
}
