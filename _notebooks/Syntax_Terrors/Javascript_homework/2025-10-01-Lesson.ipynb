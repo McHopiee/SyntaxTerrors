{
 "cells": [
  {
   "cell_type": "code",
   "execution_count": null,
   "metadata": {
    "vscode": {
     "languageId": "yaml"
    }
   },
   "outputs": [],
   "source": [
    "---\n",
    "layout: tailwindPost\n",
    "infoGraph: lists\n",
    "title: Lesson calling procedues\n",
    "description: Understanding calling procedures\n",
    "categories: [Javascript Homework]\n",
    "permalink: /csp/big-idea-three/calling-procedures/homeworkjavascript\n",
    "author: Avantika\n",
    "---"
   ]
  },
  {
   "cell_type": "markdown",
   "metadata": {},
   "source": [
    "📘 Lesson: Calling Procedures in Programming\n",
    "🎯 Objective\n",
    "\n",
    "By the end of this lesson, students will be able to:\n",
    "\n",
    "Understand what a procedure is.\n",
    "\n",
    "Learn how to define and call a procedure.\n",
    "\n",
    "Recognize why procedures are useful in programming.\n",
    "\n",
    "Write simple code that uses procedures."
   ]
  },
  {
   "cell_type": "markdown",
   "metadata": {},
   "source": [
    "1. 🧩 What is a Procedure?\n",
    "\n",
    "A procedure is a set of instructions grouped together to perform a task.\n",
    "\n",
    "Instead of writing the same code many times, you put it inside a procedure and “call” it whenever needed.\n",
    "\n",
    "This makes code organized, reusable, and easier to debug.\n",
    "\n",
    "💡 Think of a procedure like a recipe: once you write it down, you can “call” it to cook the dish whenever you want."
   ]
  },
  {
   "cell_type": "markdown",
   "metadata": {},
   "source": [
    "2. 🖊️ Defining vs. Calling a Procedure\n",
    "\n",
    "Define: Write the procedure (like writing the recipe).\n",
    "\n",
    "Call: Use the procedure (like cooking the dish)."
   ]
  },
  {
   "cell_type": "markdown",
   "metadata": {},
   "source": [
    "3. ⚙️ Syntax Examples\n",
    "In Python:"
   ]
  },
  {
   "cell_type": "code",
   "execution_count": null,
   "metadata": {},
   "outputs": [],
   "source": [
    "# Defining a procedure\n",
    "def greet():\n",
    "    print(\"Hello, welcome to class!\")\n",
    "\n",
    "# Calling the procedure\n",
    "greet()\n",
    "greet()\n"
   ]
  },
  {
   "cell_type": "markdown",
   "metadata": {},
   "source": [
    "✅ Output:"
   ]
  },
  {
   "cell_type": "code",
   "execution_count": null,
   "metadata": {
    "vscode": {
     "languageId": "javascript"
    }
   },
   "outputs": [],
   "source": [
    "Hello, welcome to class!\n",
    "Hello, welcome to class!\n",
    "//should look like this"
   ]
  },
  {
   "cell_type": "markdown",
   "metadata": {},
   "source": [
    "In JavaScript:"
   ]
  },
  {
   "cell_type": "code",
   "execution_count": null,
   "metadata": {
    "vscode": {
     "languageId": "javascript"
    }
   },
   "outputs": [],
   "source": [
    "// Defining a procedure\n",
    "function greet() {\n",
    "    console.log(\"Hello, welcome to class!\");\n",
    "}\n",
    "\n",
    "// Calling the procedure\n",
    "greet();\n",
    "greet();\n"
   ]
  },
  {
   "cell_type": "markdown",
   "metadata": {
    "vscode": {
     "languageId": "javascript"
    }
   },
   "source": [
    "✅ Output:"
   ]
  },
  {
   "cell_type": "code",
   "execution_count": null,
   "metadata": {
    "vscode": {
     "languageId": "javascript"
    }
   },
   "outputs": [],
   "source": [
    "Hello, welcome to class!\n",
    "Hello, welcome to class!\n",
    "//should look like this"
   ]
  },
  {
   "cell_type": "markdown",
   "metadata": {},
   "source": [
    "4. 🌟 Why Use Procedures?\n",
    "\n",
    "Avoid repeating code.\n",
    "\n",
    "Make programs shorter and clearer.\n",
    "\n",
    "Easier to update (change the procedure once, and all calls use the new version).\n",
    "\n",
    "Encourages teamwork (different programmers can write different procedures)."
   ]
  },
  {
   "cell_type": "markdown",
   "metadata": {},
   "source": [
    "5. 🏋️ Practice Time\n",
    "\n",
    "Task 1: Write a procedure called sayGoodbye() that prints \"Goodbye, see you soon!\". Call it three times.\n",
    "\n",
    "Task 2 (Challenge): Write a procedure addNumbers(a, b) that takes two numbers and prints their sum. Call it with 3, 7 and 10, 25."
   ]
  }
 ],
 "metadata": {
  "language_info": {
   "name": "python"
  }
 },
 "nbformat": 4,
 "nbformat_minor": 2
}
